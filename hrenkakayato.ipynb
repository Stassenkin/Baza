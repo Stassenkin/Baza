{
 "cells": [
  {
   "cell_type": "code",
   "execution_count": 2,
   "metadata": {
    "scrolled": true
   },
   "outputs": [
    {
     "name": "stdout",
     "output_type": "stream",
     "text": [
      "{'user_id': 'user_id', 'category': 'category'}\n",
      "{'user_id': '1840e0b9d4', 'category': 'Продукты'}\n",
      "{'user_id': '4e4f90fcfb', 'category': 'Электроника'}\n",
      "{'user_id': 'afea8d72fc', 'category': 'Электроника'}\n",
      "{'user_id': '373a6055fe', 'category': 'Бытовая техника'}\n",
      "{'user_id': '9b2ab046f3', 'category': 'Электроника'}\n",
      "{'user_id': '9f39d307c3', 'category': 'Электроника'}\n"
     ]
    }
   ],
   "source": [
    "import json\n",
    "with open (\"C:/Users/1/Desktop/purchase_log.txt\", encoding = \"utf-8\") as f:\n",
    "    i=0\n",
    "    for line in f:\n",
    "        line= line.strip()\n",
    "        new_list = json.loads(line)\n",
    "        for x in new_list.items():\n",
    "            key = new_list[\"user_id\"]\n",
    "            value = new_list [\"category\"]\n",
    "            purchases = {key: value}\n",
    "        print (new_list)\n",
    "\n",
    "        i += 1\n",
    "        if i > 6:\n",
    "            break\n",
    "    "
   ]
  },
  {
   "cell_type": "code",
   "execution_count": null,
   "metadata": {},
   "outputs": [],
   "source": [
    "with open (\"C:/Users/1/Desktop/visit_log.csv\",\"r\", encoding = \"utf-8\") as f1:\n",
    "    with open (\"funnel.csv\", \"w\", encoding = \"utf-8\") as f2:\n",
    "        for line in f1:\n",
    "            line = line.strip().split(\",\")\n",
    "            if line[0] in purchases.keys():\n",
    "                funnel_file = [line[0]]\n",
    "                funnel_file.append(purchases.get(line[0]))\n",
    "                f2.write(str(funnel_file) +  '\\n' "
   ]
  }
 ],
 "metadata": {
  "kernelspec": {
   "display_name": "Python 3",
   "language": "python",
   "name": "python3"
  },
  "language_info": {
   "codemirror_mode": {
    "name": "ipython",
    "version": 3
   },
   "file_extension": ".py",
   "mimetype": "text/x-python",
   "name": "python",
   "nbconvert_exporter": "python",
   "pygments_lexer": "ipython3",
   "version": "3.8.5"
  }
 },
 "nbformat": 4,
 "nbformat_minor": 4
}
