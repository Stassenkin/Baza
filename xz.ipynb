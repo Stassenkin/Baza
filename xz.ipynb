{
 "cells": [
  {
   "cell_type": "code",
   "execution_count": 13,
   "metadata": {},
   "outputs": [
    {
     "name": "stdout",
     "output_type": "stream",
     "text": [
      "{\"user_id\": \"user_id\", \"category\": \"category\"}\n",
      "{\"user_id\": \"1840e0b9d4\", \"category\": \"Продукты\"}\n",
      "{\"user_id\": \"4e4f90fcfb\", \"category\": \"Электроника\"}\n",
      "{\"user_id\": \"afea8d72fc\", \"category\": \"Электроника\"}\n",
      "{\"user_id\": \"373a6055fe\", \"category\": \"Бытовая техника\"}\n",
      "{\"user_id\": \"9b2ab046f3\", \"category\": \"Электроника\"}\n",
      "{\"user_id\": \"9f39d307c3\", \"category\": \"Электроника\"}\n",
      "{\"user_id\": \"44edeffc91\", \"category\": \"Продукты\"}\n",
      "{\"user_id\": \"704474fa2d\", \"category\": \"Продукты\"}\n",
      "{\"user_id\": \"1de31be403\", \"category\": \"Бытовая техника\"}\n",
      "{\"user_id\": \"b71f36a5e4\", \"category\": \"Продукты\"}\n"
     ]
    }
   ],
   "source": [
    "import json \n",
    "new_dict={} \n",
    "i=0\n",
    "with open('C:/Users/1/Desktop/purchase_log.txt', encoding='utf-8') as f :\n",
    "    for line in f:\n",
    "        line = line.strip()\n",
    "        dict_ = json.loads(line)\n",
    "        key=dict_['user_id']\n",
    "        value=dict_['category']\n",
    "        if key!='user_id':\n",
    "            new_dict.setdefault(key,value) \n",
    "        print (line)\n",
    "\n",
    "        i += 1\n",
    "        if i > 10:\n",
    "            break"
   ]
  },
  {
   "cell_type": "code",
   "execution_count": 14,
   "metadata": {},
   "outputs": [],
   "source": [
    "with open('C:/Users/1/Desktop/visit_log.csv', 'r', encoding='utf-8') as f1, open('funnel.csv', 'w') as f2: \n",
    "    for row in f1: \n",
    "        line_list=row.strip().split(',')\n",
    "        if line_list[0] in new_dict.keys(): \n",
    "            line_list.append(new_dict[line_list[0]]) \n",
    "            add_line=','.join(line_list) \n",
    "        elif line_list[0]=='user_id':\n",
    "            line_list.append('category') \n",
    "            add_line=','.join(line_list) \n",
    "        else:\n",
    "            add_line=','.join(line_list) \n",
    "            f2.write(add_line+'\\n')"
   ]
  },
  {
   "cell_type": "code",
   "execution_count": 15,
   "metadata": {},
   "outputs": [
    {
     "name": "stdout",
     "output_type": "stream",
     "text": [
      "6450655ae8,other\n",
      "\n",
      "b4ea53e670,other\n",
      "\n",
      "0e37347152,other\n",
      "\n",
      "96064ae9e0,other\n",
      "\n"
     ]
    }
   ],
   "source": [
    "with open (\"funnel.csv\",\"r\", encoding = \"utf-8\") as foo:\n",
    "        z = 0\n",
    "        for line in foo:\n",
    "            print(line)\n",
    "            z += 1\n",
    "            if z >3:\n",
    "                break"
   ]
  },
  {
   "cell_type": "code",
   "execution_count": null,
   "metadata": {},
   "outputs": [],
   "source": []
  }
 ],
 "metadata": {
  "kernelspec": {
   "display_name": "Python 3",
   "language": "python",
   "name": "python3"
  },
  "language_info": {
   "codemirror_mode": {
    "name": "ipython",
    "version": 3
   },
   "file_extension": ".py",
   "mimetype": "text/x-python",
   "name": "python",
   "nbconvert_exporter": "python",
   "pygments_lexer": "ipython3",
   "version": "3.8.5"
  }
 },
 "nbformat": 4,
 "nbformat_minor": 4
}
